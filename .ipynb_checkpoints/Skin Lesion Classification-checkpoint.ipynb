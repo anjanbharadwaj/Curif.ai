{
 "cells": [
  {
   "cell_type": "code",
   "execution_count": 2,
   "metadata": {},
   "outputs": [
    {
     "name": "stderr",
     "output_type": "stream",
     "text": [
      "/Users/sreeharirammohan/anaconda3/lib/python3.6/site-packages/h5py/__init__.py:36: FutureWarning: Conversion of the second argument of issubdtype from `float` to `np.floating` is deprecated. In future, it will be treated as `np.float64 == np.dtype(float).type`.\n",
      "  from ._conv import register_converters as _register_converters\n"
     ]
    },
    {
     "name": "stdout",
     "output_type": "stream",
     "text": [
      "1.10.0\n"
     ]
    }
   ],
   "source": [
    "import os\n",
    "import numpy as np\n",
    "import cv2\n",
    "import tensorflow as tf\n",
    "print(tf.__version__)"
   ]
  },
  {
   "cell_type": "code",
   "execution_count": 3,
   "metadata": {},
   "outputs": [],
   "source": [
    "#X = np.load('/Volumes/Elements/CES-Model_and_Data/X.npy')\n",
    "#y = np.load('/Volumes/Elements/CES-Model_and_Data/y.npy')"
   ]
  },
  {
   "cell_type": "code",
   "execution_count": null,
   "metadata": {},
   "outputs": [
    {
     "name": "stdout",
     "output_type": "stream",
     "text": [
      "['Actinic_Keratosis', 'Basel_Cell_Carcinoma', 'Dermatofibroma', 'Melanoma', 'Nevus', 'Seaborrheic Keratosis']\n",
      "Working on class Actinic_Keratosis\n",
      "Working on class Basel_Cell_Carcinoma\n",
      "203 - 17.28%\r"
     ]
    },
    {
     "name": "stderr",
     "output_type": "stream",
     "text": [
      "ERROR:root:Internal Python error in the inspect module.\n",
      "Below is the traceback from this internal error.\n",
      "\n",
      "\n",
      "KeyboardInterrupt\n",
      "\n",
      "ERROR:tornado.general:Uncaught exception, closing connection.\n",
      "Traceback (most recent call last):\n",
      "  File \"/Users/sreeharirammohan/anaconda3/lib/python3.6/site-packages/zmq/eventloop/zmqstream.py\", line 414, in _run_callback\n",
      "    callback(*args, **kwargs)\n",
      "  File \"/Users/sreeharirammohan/anaconda3/lib/python3.6/site-packages/tornado/stack_context.py\", line 277, in null_wrapper\n",
      "    return fn(*args, **kwargs)\n",
      "  File \"/Users/sreeharirammohan/anaconda3/lib/python3.6/site-packages/ipykernel/kernelbase.py\", line 283, in dispatcher\n",
      "    return self.dispatch_shell(stream, msg)\n",
      "  File \"/Users/sreeharirammohan/anaconda3/lib/python3.6/site-packages/ipykernel/kernelbase.py\", line 233, in dispatch_shell\n",
      "    handler(stream, idents, msg)\n",
      "  File \"/Users/sreeharirammohan/anaconda3/lib/python3.6/site-packages/ipykernel/kernelbase.py\", line 399, in execute_request\n",
      "    user_expressions, allow_stdin)\n",
      "  File \"/Users/sreeharirammohan/anaconda3/lib/python3.6/site-packages/ipykernel/ipkernel.py\", line 256, in do_execute\n",
      "    shell.payload_manager.clear_payload()\n",
      "  File \"/Users/sreeharirammohan/anaconda3/lib/python3.6/site-packages/IPython/core/payload.py\", line 55, in clear_payload\n",
      "    self._payload = []\n",
      "  File \"/Users/sreeharirammohan/anaconda3/lib/python3.6/site-packages/traitlets/traitlets.py\", line 585, in __set__\n",
      "    self.set(obj, value)\n",
      "  File \"/Users/sreeharirammohan/anaconda3/lib/python3.6/site-packages/traitlets/traitlets.py\", line 559, in set\n",
      "    new_value = self._validate(obj, value)\n",
      "  File \"/Users/sreeharirammohan/anaconda3/lib/python3.6/site-packages/traitlets/traitlets.py\", line 591, in _validate\n",
      "    value = self.validate(obj, value)\n",
      "  File \"/Users/sreeharirammohan/anaconda3/lib/python3.6/site-packages/traitlets/traitlets.py\", line 2324, in validate\n",
      "    value = super(List, self).validate(obj, value)\n",
      "  File \"/Users/sreeharirammohan/anaconda3/lib/python3.6/site-packages/traitlets/traitlets.py\", line 2242, in validate\n",
      "    value = self.validate_elements(obj, value)\n",
      "  File \"/Users/sreeharirammohan/anaconda3/lib/python3.6/site-packages/traitlets/traitlets.py\", line 2321, in validate_elements\n",
      "    return super(List, self).validate_elements(obj, value)\n",
      "  File \"/Users/sreeharirammohan/anaconda3/lib/python3.6/site-packages/traitlets/traitlets.py\", line 2246, in validate_elements\n",
      "    def validate_elements(self, obj, value):\n",
      "KeyboardInterrupt\n",
      "ERROR:tornado.general:Uncaught exception, closing connection.\n",
      "Traceback (most recent call last):\n",
      "  File \"/Users/sreeharirammohan/anaconda3/lib/python3.6/site-packages/zmq/eventloop/zmqstream.py\", line 440, in _handle_events\n",
      "    self._handle_recv()\n",
      "  File \"/Users/sreeharirammohan/anaconda3/lib/python3.6/site-packages/zmq/eventloop/zmqstream.py\", line 472, in _handle_recv\n",
      "    self._run_callback(callback, msg)\n",
      "  File \"/Users/sreeharirammohan/anaconda3/lib/python3.6/site-packages/zmq/eventloop/zmqstream.py\", line 414, in _run_callback\n",
      "    callback(*args, **kwargs)\n",
      "  File \"/Users/sreeharirammohan/anaconda3/lib/python3.6/site-packages/tornado/stack_context.py\", line 277, in null_wrapper\n",
      "    return fn(*args, **kwargs)\n",
      "  File \"/Users/sreeharirammohan/anaconda3/lib/python3.6/site-packages/ipykernel/kernelbase.py\", line 283, in dispatcher\n",
      "    return self.dispatch_shell(stream, msg)\n",
      "  File \"/Users/sreeharirammohan/anaconda3/lib/python3.6/site-packages/ipykernel/kernelbase.py\", line 233, in dispatch_shell\n",
      "    handler(stream, idents, msg)\n",
      "  File \"/Users/sreeharirammohan/anaconda3/lib/python3.6/site-packages/ipykernel/kernelbase.py\", line 399, in execute_request\n",
      "    user_expressions, allow_stdin)\n",
      "  File \"/Users/sreeharirammohan/anaconda3/lib/python3.6/site-packages/ipykernel/ipkernel.py\", line 256, in do_execute\n",
      "    shell.payload_manager.clear_payload()\n",
      "  File \"/Users/sreeharirammohan/anaconda3/lib/python3.6/site-packages/IPython/core/payload.py\", line 55, in clear_payload\n",
      "    self._payload = []\n",
      "  File \"/Users/sreeharirammohan/anaconda3/lib/python3.6/site-packages/traitlets/traitlets.py\", line 585, in __set__\n",
      "    self.set(obj, value)\n",
      "  File \"/Users/sreeharirammohan/anaconda3/lib/python3.6/site-packages/traitlets/traitlets.py\", line 559, in set\n",
      "    new_value = self._validate(obj, value)\n",
      "  File \"/Users/sreeharirammohan/anaconda3/lib/python3.6/site-packages/traitlets/traitlets.py\", line 591, in _validate\n",
      "    value = self.validate(obj, value)\n",
      "  File \"/Users/sreeharirammohan/anaconda3/lib/python3.6/site-packages/traitlets/traitlets.py\", line 2324, in validate\n",
      "    value = super(List, self).validate(obj, value)\n",
      "  File \"/Users/sreeharirammohan/anaconda3/lib/python3.6/site-packages/traitlets/traitlets.py\", line 2242, in validate\n",
      "    value = self.validate_elements(obj, value)\n",
      "  File \"/Users/sreeharirammohan/anaconda3/lib/python3.6/site-packages/traitlets/traitlets.py\", line 2321, in validate_elements\n",
      "    return super(List, self).validate_elements(obj, value)\n",
      "  File \"/Users/sreeharirammohan/anaconda3/lib/python3.6/site-packages/traitlets/traitlets.py\", line 2246, in validate_elements\n",
      "    def validate_elements(self, obj, value):\n",
      "KeyboardInterrupt\n"
     ]
    }
   ],
   "source": [
    "#Read in images from folder\n",
    "DATA_PATH = \"/Volumes/Sreehari 4TB backup/Lesions\"\n",
    "\n",
    "classes = os.listdir(DATA_PATH)\n",
    "del classes[0] #first entry is .DS Store not a directory\n",
    "\n",
    "print(classes)\n",
    "\n",
    "X = np.array([])\n",
    "y = np.array([])\n",
    "\n",
    "for class_name in classes:\n",
    "    \n",
    "    print(\"Working on class\", class_name)\n",
    "\n",
    "    class_folder = os.path.join(DATA_PATH,class_name)\n",
    "\n",
    "    sub_files = os.listdir(class_folder)\n",
    "    \n",
    "    number_of_files = len(sub_files)\n",
    "    i = 0\n",
    "    \n",
    "    for file in sub_files:\n",
    "        if '.jpg' in file:\n",
    "            image_filepath = os.path.join(class_folder, file)\n",
    "            image_as_np_array = cv2.imread(image_filepath,flags=cv2.IMREAD_COLOR)\n",
    "            \n",
    "            #(400, 400, 3)\n",
    "            #decrease the size of the image by 1/4 to \n",
    "            image_as_np_array = cv2.resize(image_as_np_array, (400,400), interpolation = cv2.INTER_LINEAR)\n",
    "            \n",
    "            #cv2.imshow('ImageWindow', image_as_np_array)\n",
    "            #cv2.waitKey()\n",
    "            \n",
    "            X = np.append(X, image_as_np_array)\n",
    "            y = np.append(y, class_name)\n",
    "\n",
    "            print(str(i) + \" - \" + str(round((i/number_of_files)*100, 2)) + \"%\", end='\\r', flush=True)\n",
    "\n",
    "            i += 1\n",
    "        \n"
   ]
  },
  {
   "cell_type": "code",
   "execution_count": null,
   "metadata": {},
   "outputs": [],
   "source": [
    "X = X.reshape(-1,400,400,3)\n",
    "X.shape"
   ]
  },
  {
   "cell_type": "code",
   "execution_count": null,
   "metadata": {},
   "outputs": [],
   "source": [
    "y.shape"
   ]
  },
  {
   "cell_type": "code",
   "execution_count": null,
   "metadata": {},
   "outputs": [],
   "source": [
    "#Normalize image array values between 0-1\n",
    "X /= 255.0"
   ]
  },
  {
   "cell_type": "code",
   "execution_count": null,
   "metadata": {},
   "outputs": [],
   "source": [
    "from sklearn.preprocessing import LabelEncoder\n",
    "label_encoder = LabelEncoder()\n",
    "label_encoder.fit(y)\n",
    "y = label_encoder.transform(y)"
   ]
  },
  {
   "cell_type": "code",
   "execution_count": null,
   "metadata": {},
   "outputs": [],
   "source": [
    "print(y)"
   ]
  },
  {
   "cell_type": "code",
   "execution_count": null,
   "metadata": {},
   "outputs": [],
   "source": [
    "np.save('/Volumes/Elements/CES-Model_and_Data/X.npy', X)\n",
    "np.save('/Volumes/Elements/CES-Model_and_Data/y.npy', y)"
   ]
  },
  {
   "cell_type": "code",
   "execution_count": null,
   "metadata": {},
   "outputs": [],
   "source": [
    "from sklearn.model_selection import train_test_split\n",
    "\n",
    "X_train, X_test, y_train, y_test = train_test_split(X, y, test_size=0.33, random_state=42)"
   ]
  },
  {
   "cell_type": "code",
   "execution_count": null,
   "metadata": {},
   "outputs": [],
   "source": [
    "X_train.shape"
   ]
  },
  {
   "cell_type": "code",
   "execution_count": null,
   "metadata": {},
   "outputs": [],
   "source": [
    "X_test.shape"
   ]
  },
  {
   "cell_type": "code",
   "execution_count": null,
   "metadata": {},
   "outputs": [],
   "source": [
    "y_train.shape"
   ]
  },
  {
   "cell_type": "code",
   "execution_count": null,
   "metadata": {},
   "outputs": [],
   "source": [
    "y_test.shape"
   ]
  },
  {
   "cell_type": "code",
   "execution_count": null,
   "metadata": {},
   "outputs": [],
   "source": [
    "print(y_test)"
   ]
  },
  {
   "cell_type": "code",
   "execution_count": null,
   "metadata": {},
   "outputs": [],
   "source": [
    "import keras \n",
    "from keras.models import Sequential\n",
    "from keras.layers import *\n",
    "\n",
    "num_classes = 6\n",
    "input_shape=(400,400,3)\n",
    "epochs = 10\n",
    "batch_size = 32"
   ]
  },
  {
   "cell_type": "code",
   "execution_count": null,
   "metadata": {},
   "outputs": [],
   "source": [
    "model = Sequential()\n",
    "model.add(Conv2D(32, kernel_size=(5, 5), strides=(1, 1),\n",
    "                 activation='relu',\n",
    "                 input_shape=input_shape))\n",
    "model.add(MaxPooling2D(pool_size=(2, 2), strides=(2, 2)))\n",
    "model.add(Conv2D(64, (5, 5), activation='relu'))\n",
    "model.add(MaxPooling2D(pool_size=(2, 2)))\n",
    "model.add(Flatten())\n",
    "model.add(Dense(1000, activation='relu'))\n",
    "model.add(Dense(num_classes, activation='softmax'))"
   ]
  },
  {
   "cell_type": "code",
   "execution_count": null,
   "metadata": {},
   "outputs": [],
   "source": [
    "model.compile(loss=keras.losses.sparse_categorical_crossentropy,\n",
    "              optimizer=keras.optimizers.SGD(lr=0.01),\n",
    "              metrics=['accuracy'])"
   ]
  },
  {
   "cell_type": "code",
   "execution_count": null,
   "metadata": {},
   "outputs": [],
   "source": [
    "model.fit(X_train, y_train,\n",
    "          batch_size=batch_size,\n",
    "          epochs=epochs,\n",
    "          validation_data=(X_test, y_test),\n",
    "          verbose=1)"
   ]
  },
  {
   "cell_type": "code",
   "execution_count": null,
   "metadata": {},
   "outputs": [],
   "source": [
    "score = model.evaluate(X_test, y_test, verbose=0)\n",
    "print('Test loss:', score[0])\n",
    "print('Test accuracy:', score[1])"
   ]
  },
  {
   "cell_type": "code",
   "execution_count": 39,
   "metadata": {},
   "outputs": [],
   "source": [
    "with tf.Session() as sess:\n",
    "    \n",
    "    sess.run(tf.global_variables_initializer())\n",
    "    \n",
    "    tf.keras.models.save_model(\n",
    "        model,\n",
    "        '/Volumes/Elements/Lesions/65%_model_10-9.h5',\n",
    "        overwrite=True,\n",
    "        include_optimizer=True\n",
    "    )"
   ]
  },
  {
   "cell_type": "code",
   "execution_count": 40,
   "metadata": {},
   "outputs": [
    {
     "name": "stdout",
     "output_type": "stream",
     "text": [
      "INFO:tensorflow:Froze 8 variables.\n",
      "INFO:tensorflow:Converted 8 variables to const ops.\n"
     ]
    },
    {
     "data": {
      "text/plain": [
       "10624816"
      ]
     },
     "execution_count": 40,
     "metadata": {},
     "output_type": "execute_result"
    }
   ],
   "source": [
    "converter = tf.contrib.lite.TocoConverter.from_keras_model_file('/Volumes/Elements/Lesions/65%_model_10-9.h5')\n",
    "converter.post_training_quantize = True\n",
    "converter.quantize_weights = True\n",
    "tflite_model = converter.convert()\n",
    "open(\"/Volumes/Elements/Lesions/65%_epoch_model_10-9_quantized_model.tflite\", \"wb\").write(tflite_model)"
   ]
  },
  {
   "cell_type": "code",
   "execution_count": 41,
   "metadata": {},
   "outputs": [
    {
     "name": "stdout",
     "output_type": "stream",
     "text": [
      "done\n"
     ]
    }
   ],
   "source": [
    "print(\"done\")"
   ]
  },
  {
   "cell_type": "code",
   "execution_count": null,
   "metadata": {},
   "outputs": [],
   "source": []
  }
 ],
 "metadata": {
  "kernelspec": {
   "display_name": "Python 3",
   "language": "python",
   "name": "python3"
  },
  "language_info": {
   "codemirror_mode": {
    "name": "ipython",
    "version": 3
   },
   "file_extension": ".py",
   "mimetype": "text/x-python",
   "name": "python",
   "nbconvert_exporter": "python",
   "pygments_lexer": "ipython3",
   "version": "3.6.4"
  }
 },
 "nbformat": 4,
 "nbformat_minor": 2
}
