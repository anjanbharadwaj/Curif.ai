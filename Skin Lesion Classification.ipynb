{
 "cells": [
  {
   "cell_type": "code",
   "execution_count": 1,
   "metadata": {},
   "outputs": [
    {
     "name": "stderr",
     "output_type": "stream",
     "text": [
      "/Users/sreeharirammohan/anaconda3/lib/python3.6/site-packages/h5py/__init__.py:36: FutureWarning: Conversion of the second argument of issubdtype from `float` to `np.floating` is deprecated. In future, it will be treated as `np.float64 == np.dtype(float).type`.\n",
      "  from ._conv import register_converters as _register_converters\n"
     ]
    },
    {
     "name": "stdout",
     "output_type": "stream",
     "text": [
      "1.10.0\n"
     ]
    }
   ],
   "source": [
    "import os\n",
    "import numpy as np\n",
    "import cv2\n",
    "import tensorflow as tf\n",
    "print(tf.__version__)"
   ]
  },
  {
   "cell_type": "code",
   "execution_count": 2,
   "metadata": {},
   "outputs": [],
   "source": [
    "X = np.load('/Volumes/Elements/Lesions/X.npy')\n",
    "y = np.load('/Volumes/Elements/Lesions/y.npy')"
   ]
  },
  {
   "cell_type": "code",
   "execution_count": 2,
   "metadata": {},
   "outputs": [
    {
     "name": "stdout",
     "output_type": "stream",
     "text": [
      "['Actinic_Keratosis', 'Basel_Cell_Carcinoma', 'Dermatofibroma', 'Seaborrheic Keratosis', 'X.npy', 'y.npy']\n",
      "94\r"
     ]
    },
    {
     "ename": "KeyboardInterrupt",
     "evalue": "",
     "output_type": "error",
     "traceback": [
      "\u001b[0;31m---------------------------------------------------------------------------\u001b[0m",
      "\u001b[0;31mKeyboardInterrupt\u001b[0m                         Traceback (most recent call last)",
      "\u001b[0;32m<ipython-input-2-5451bcedb83a>\u001b[0m in \u001b[0;36m<module>\u001b[0;34m()\u001b[0m\n\u001b[1;32m     21\u001b[0m         \u001b[0;32mif\u001b[0m \u001b[0;34m'.jpg'\u001b[0m \u001b[0;32min\u001b[0m \u001b[0mfile\u001b[0m\u001b[0;34m:\u001b[0m\u001b[0;34m\u001b[0m\u001b[0m\n\u001b[1;32m     22\u001b[0m             \u001b[0mimage_filepath\u001b[0m \u001b[0;34m=\u001b[0m \u001b[0mos\u001b[0m\u001b[0;34m.\u001b[0m\u001b[0mpath\u001b[0m\u001b[0;34m.\u001b[0m\u001b[0mjoin\u001b[0m\u001b[0;34m(\u001b[0m\u001b[0mclass_folder\u001b[0m\u001b[0;34m,\u001b[0m \u001b[0mfile\u001b[0m\u001b[0;34m)\u001b[0m\u001b[0;34m\u001b[0m\u001b[0m\n\u001b[0;32m---> 23\u001b[0;31m             \u001b[0mimage_as_np_array\u001b[0m \u001b[0;34m=\u001b[0m \u001b[0mcv2\u001b[0m\u001b[0;34m.\u001b[0m\u001b[0mimread\u001b[0m\u001b[0;34m(\u001b[0m\u001b[0mimage_filepath\u001b[0m\u001b[0;34m,\u001b[0m\u001b[0mflags\u001b[0m\u001b[0;34m=\u001b[0m\u001b[0mcv2\u001b[0m\u001b[0;34m.\u001b[0m\u001b[0mIMREAD_COLOR\u001b[0m\u001b[0;34m)\u001b[0m\u001b[0;34m\u001b[0m\u001b[0m\n\u001b[0m\u001b[1;32m     24\u001b[0m \u001b[0;34m\u001b[0m\u001b[0m\n\u001b[1;32m     25\u001b[0m             \u001b[0;31m#decrease the size of the image by 1/4 to\u001b[0m\u001b[0;34m\u001b[0m\u001b[0;34m\u001b[0m\u001b[0m\n",
      "\u001b[0;31mKeyboardInterrupt\u001b[0m: "
     ]
    }
   ],
   "source": [
    "#Read in images from folder\n",
    "DATA_PATH = \"/Volumes/Elements/Lesions\"\n",
    "\n",
    "classes = os.listdir(DATA_PATH)\n",
    "del classes[0] #first entry is .DS Store not a directory\n",
    "\n",
    "print(classes)\n",
    "\n",
    "X = np.array([])\n",
    "y = np.array([])\n",
    "\n",
    "for class_name in classes:\n",
    "    class_folder = os.path.join(DATA_PATH,class_name)\n",
    "\n",
    "    sub_files = os.listdir(class_folder)\n",
    "    \n",
    "    i = 0\n",
    "    \n",
    "    for file in sub_files:\n",
    "        \n",
    "        if '.jpg' in file:\n",
    "            image_filepath = os.path.join(class_folder, file)\n",
    "            image_as_np_array = cv2.imread(image_filepath,flags=cv2.IMREAD_COLOR)\n",
    "            \n",
    "            #decrease the size of the image by 1/4 to \n",
    "            image_as_np_array = cv2.resize(image_as_np_array, (56,75), interpolation = cv2.INTER_LINEAR)\n",
    "            \n",
    "            #cv2.imshow('ImageWindow', image_as_np_array)\n",
    "            #cv2.waitKey()\n",
    "            \n",
    "            #print(image_as_np_array.shape)\n",
    "\n",
    "            X = np.append(X, image_as_np_array)\n",
    "            y = np.append(y, class_name)\n",
    "\n",
    "            print(i, end='\\r', flush=True)\n",
    "\n",
    "            i += 1\n",
    "        \n"
   ]
  },
  {
   "cell_type": "code",
   "execution_count": 3,
   "metadata": {},
   "outputs": [
    {
     "data": {
      "text/plain": [
       "(1453, 56, 75, 3)"
      ]
     },
     "execution_count": 3,
     "metadata": {},
     "output_type": "execute_result"
    }
   ],
   "source": [
    "X = X.reshape(-1,56,75,3)\n",
    "X.shape"
   ]
  },
  {
   "cell_type": "code",
   "execution_count": 4,
   "metadata": {},
   "outputs": [
    {
     "data": {
      "text/plain": [
       "(1453,)"
      ]
     },
     "execution_count": 4,
     "metadata": {},
     "output_type": "execute_result"
    }
   ],
   "source": [
    "y.shape"
   ]
  },
  {
   "cell_type": "code",
   "execution_count": 5,
   "metadata": {},
   "outputs": [],
   "source": [
    "#Normalize image array values between 0-1\n",
    "X /= 255.0"
   ]
  },
  {
   "cell_type": "code",
   "execution_count": 8,
   "metadata": {},
   "outputs": [],
   "source": [
    "from sklearn.preprocessing import LabelEncoder\n",
    "label_encoder = LabelEncoder()\n",
    "label_encoder.fit(y)\n",
    "y = label_encoder.transform(y)"
   ]
  },
  {
   "cell_type": "code",
   "execution_count": 9,
   "metadata": {},
   "outputs": [
    {
     "name": "stdout",
     "output_type": "stream",
     "text": [
      "[0 0 0 ... 3 3 3]\n"
     ]
    }
   ],
   "source": [
    "print(y)"
   ]
  },
  {
   "cell_type": "code",
   "execution_count": 10,
   "metadata": {},
   "outputs": [],
   "source": [
    "np.save('/Volumes/Elements/Lesions/X.npy', X)\n",
    "np.save('/Volumes/Elements/Lesions/y.npy', y)"
   ]
  },
  {
   "cell_type": "code",
   "execution_count": 3,
   "metadata": {},
   "outputs": [],
   "source": [
    "from sklearn.model_selection import train_test_split\n",
    "\n",
    "X_train, X_test, y_train, y_test = train_test_split(X, y, test_size=0.33, random_state=42)"
   ]
  },
  {
   "cell_type": "code",
   "execution_count": 4,
   "metadata": {},
   "outputs": [
    {
     "data": {
      "text/plain": [
       "(973, 56, 75, 3)"
      ]
     },
     "execution_count": 4,
     "metadata": {},
     "output_type": "execute_result"
    }
   ],
   "source": [
    "X_train.shape"
   ]
  },
  {
   "cell_type": "code",
   "execution_count": 5,
   "metadata": {},
   "outputs": [
    {
     "data": {
      "text/plain": [
       "(480, 56, 75, 3)"
      ]
     },
     "execution_count": 5,
     "metadata": {},
     "output_type": "execute_result"
    }
   ],
   "source": [
    "X_test.shape"
   ]
  },
  {
   "cell_type": "code",
   "execution_count": 6,
   "metadata": {},
   "outputs": [
    {
     "data": {
      "text/plain": [
       "(973,)"
      ]
     },
     "execution_count": 6,
     "metadata": {},
     "output_type": "execute_result"
    }
   ],
   "source": [
    "y_train.shape"
   ]
  },
  {
   "cell_type": "code",
   "execution_count": 7,
   "metadata": {},
   "outputs": [
    {
     "data": {
      "text/plain": [
       "(480,)"
      ]
     },
     "execution_count": 7,
     "metadata": {},
     "output_type": "execute_result"
    }
   ],
   "source": [
    "y_test.shape"
   ]
  },
  {
   "cell_type": "code",
   "execution_count": 8,
   "metadata": {},
   "outputs": [
    {
     "name": "stdout",
     "output_type": "stream",
     "text": [
      "[1 3 2 1 1 1 1 0 1 1 1 2 1 3 0 1 3 2 0 3 1 1 0 3 2 3 3 1 3 1 1 1 3 2 0 1 1\n",
      " 1 3 1 0 3 0 0 3 3 0 0 1 3 0 3 1 0 0 2 0 3 3 3 3 1 0 1 1 1 2 2 1 3 3 3 0 1\n",
      " 1 3 1 0 0 1 3 0 2 1 1 0 1 1 1 0 1 0 1 0 2 1 0 3 3 3 3 0 0 2 1 3 1 1 1 1 3\n",
      " 1 1 2 3 3 1 1 1 1 0 1 3 1 1 3 3 1 2 1 1 3 3 1 1 1 0 3 3 3 3 0 0 2 3 0 2 3\n",
      " 1 1 0 1 3 1 3 0 3 3 1 0 1 1 1 1 1 2 0 0 1 2 0 1 3 0 1 1 3 3 1 1 3 0 1 0 1\n",
      " 0 0 1 1 3 1 1 3 1 1 0 0 3 2 1 3 1 2 3 1 1 1 1 0 3 0 1 3 3 3 3 1 2 0 1 1 1\n",
      " 2 3 3 3 1 1 3 1 1 1 3 3 1 0 0 0 1 0 0 0 0 1 1 2 0 0 1 3 1 1 1 3 1 3 2 3 3\n",
      " 1 0 1 0 3 0 3 3 0 3 2 3 3 3 1 1 1 1 3 0 3 3 1 1 1 1 1 2 3 3 2 0 3 3 1 1 1\n",
      " 0 3 0 1 3 2 3 1 1 0 0 1 1 0 3 1 3 3 3 0 1 3 3 0 1 0 2 3 1 1 2 0 3 1 1 1 0\n",
      " 0 0 1 3 3 2 1 3 3 0 1 3 1 1 1 3 3 1 3 3 1 2 1 0 3 1 3 3 3 3 3 1 3 0 1 3 0\n",
      " 2 0 2 0 3 1 0 1 0 3 1 1 1 0 3 1 0 1 0 1 3 1 1 0 1 1 3 0 1 0 3 3 1 2 1 1 1\n",
      " 0 3 3 1 2 1 0 0 1 0 0 1 0 1 3 2 1 1 0 1 1 0 3 1 1 0 1 1 3 1 3 1 1 1 0 3 3\n",
      " 1 1 1 3 3 3 2 2 2 3 1 1 1 0 3 3 2 3 1 1 1 0 1 1 1 1 1 1 1 1 1 3 1 1 1 3]\n"
     ]
    }
   ],
   "source": [
    "print(y_test)"
   ]
  },
  {
   "cell_type": "code",
   "execution_count": 9,
   "metadata": {},
   "outputs": [
    {
     "name": "stderr",
     "output_type": "stream",
     "text": [
      "Using TensorFlow backend.\n"
     ]
    }
   ],
   "source": [
    "import keras \n",
    "from keras.models import Sequential\n",
    "from keras.layers import *\n",
    "\n",
    "num_classes = 4\n",
    "input_shape=(56,75,3)\n",
    "epochs = 75\n",
    "batch_size = 32"
   ]
  },
  {
   "cell_type": "code",
   "execution_count": 10,
   "metadata": {},
   "outputs": [],
   "source": [
    "model = Sequential()\n",
    "model.add(Conv2D(32, kernel_size=(5, 5), strides=(1, 1),\n",
    "                 activation='relu',\n",
    "                 input_shape=input_shape))\n",
    "model.add(MaxPooling2D(pool_size=(2, 2), strides=(2, 2)))\n",
    "model.add(Conv2D(64, (5, 5), activation='relu'))\n",
    "model.add(MaxPooling2D(pool_size=(2, 2)))\n",
    "model.add(Flatten())\n",
    "model.add(Dense(1000, activation='relu'))\n",
    "model.add(Dense(num_classes, activation='softmax'))"
   ]
  },
  {
   "cell_type": "code",
   "execution_count": 11,
   "metadata": {},
   "outputs": [],
   "source": [
    "model.compile(loss=keras.losses.sparse_categorical_crossentropy,\n",
    "              optimizer=keras.optimizers.SGD(lr=0.01),\n",
    "              metrics=['accuracy'])"
   ]
  },
  {
   "cell_type": "code",
   "execution_count": null,
   "metadata": {},
   "outputs": [
    {
     "name": "stdout",
     "output_type": "stream",
     "text": [
      "Train on 973 samples, validate on 480 samples\n",
      "Epoch 1/75\n",
      "973/973 [==============================] - 215s 221ms/step - loss: 1.3025 - acc: 0.3936 - val_loss: 1.3174 - val_acc: 0.4208\n",
      "Epoch 2/75\n",
      "768/973 [======================>.......] - ETA: 33s - loss: 1.2663 - acc: 0.4076"
     ]
    }
   ],
   "source": [
    "model.fit(X_train, y_train,\n",
    "          batch_size=batch_size,\n",
    "          epochs=epochs,\n",
    "          validation_data=(X_test, y_test),\n",
    "          verbose=1)"
   ]
  },
  {
   "cell_type": "code",
   "execution_count": null,
   "metadata": {},
   "outputs": [],
   "source": [
    "score = model.evaluate(X_test, y_test, verbose=0)\n",
    "print('Test loss:', score[0])\n",
    "print('Test accuracy:', score[1])"
   ]
  },
  {
   "cell_type": "code",
   "execution_count": null,
   "metadata": {},
   "outputs": [],
   "source": [
    "with tf.Session() as sess:\n",
    "    \n",
    "    sess.run(tf.global_variables_initializer())\n",
    "    \n",
    "    tf.keras.models.save_model(\n",
    "        model,\n",
    "        '/Volumes/Elements/Lesions/75_epoch_model.h5',\n",
    "        overwrite=True,\n",
    "        include_optimizer=True\n",
    "    )"
   ]
  },
  {
   "cell_type": "code",
   "execution_count": null,
   "metadata": {},
   "outputs": [],
   "source": [
    "converter = tf.contrib.lite.TocoConverter.from_keras_model_file('/Volumes/Elements/Lesions/model.h5')\n",
    "converter.post_training_quantize = True\n",
    "converter.quantize_weights = True\n",
    "tflite_model = converter.convert()\n",
    "open(\"/Volumes/Elements/Lesions/75_epoch_quantized_model.tflite\", \"wb\").write(tflite_model)"
   ]
  },
  {
   "cell_type": "code",
   "execution_count": null,
   "metadata": {},
   "outputs": [],
   "source": [
    "print(\"done\")"
   ]
  },
  {
   "cell_type": "code",
   "execution_count": null,
   "metadata": {},
   "outputs": [],
   "source": []
  }
 ],
 "metadata": {
  "kernelspec": {
   "display_name": "Python 3",
   "language": "python",
   "name": "python3"
  },
  "language_info": {
   "codemirror_mode": {
    "name": "ipython",
    "version": 3
   },
   "file_extension": ".py",
   "mimetype": "text/x-python",
   "name": "python",
   "nbconvert_exporter": "python",
   "pygments_lexer": "ipython3",
   "version": "3.6.4"
  }
 },
 "nbformat": 4,
 "nbformat_minor": 2
}
