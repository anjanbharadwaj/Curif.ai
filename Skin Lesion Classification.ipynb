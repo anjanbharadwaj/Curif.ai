{
 "cells": [
  {
   "cell_type": "code",
   "execution_count": 1,
   "metadata": {},
   "outputs": [
    {
     "name": "stderr",
     "output_type": "stream",
     "text": [
      "/Users/sreeharirammohan/anaconda3/lib/python3.6/site-packages/h5py/__init__.py:36: FutureWarning: Conversion of the second argument of issubdtype from `float` to `np.floating` is deprecated. In future, it will be treated as `np.float64 == np.dtype(float).type`.\n",
      "  from ._conv import register_converters as _register_converters\n"
     ]
    },
    {
     "name": "stdout",
     "output_type": "stream",
     "text": [
      "1.10.0\n"
     ]
    }
   ],
   "source": [
    "import os\n",
    "import numpy as np\n",
    "import cv2\n",
    "import tensorflow as tf\n",
    "print(tf.__version__)"
   ]
  },
  {
   "cell_type": "code",
   "execution_count": 4,
   "metadata": {},
   "outputs": [],
   "source": [
    "X = np.load('/Volumes/Elements/CES-Model_and_Data/X.npy')\n",
    "y = np.load('/Volumes/Elements/CES-Model_and_Data/y.npy')"
   ]
  },
  {
   "cell_type": "code",
   "execution_count": 5,
   "metadata": {},
   "outputs": [
    {
     "name": "stdout",
     "output_type": "stream",
     "text": [
      "['Actinic_Keratosis', 'Basel_Cell_Carcinoma', 'Dermatofibroma', 'Melanoma', 'Nevus', 'Seaborrheic Keratosis']\n",
      "Working on class Actinic_Keratosis\n",
      "Working on class Basel_Cell_Carcinoma\n",
      "Working on class Dermatofibroma\n",
      "Working on class Melanoma\n",
      "Working on class Nevus\n",
      "Working on class Seaborrheic Keratosis\n",
      "418 - 49.7%%\r"
     ]
    }
   ],
   "source": [
    "#Read in images from folder\n",
    "DATA_PATH = \"/Volumes/Elements/Lesions\"\n",
    "\n",
    "classes = os.listdir(DATA_PATH)\n",
    "del classes[0] #first entry is .DS Store not a directory\n",
    "\n",
    "print(classes)\n",
    "\n",
    "X = np.array([])\n",
    "y = np.array([])\n",
    "\n",
    "for class_name in classes:\n",
    "    \n",
    "    print(\"Working on class\", class_name)\n",
    "\n",
    "    class_folder = os.path.join(DATA_PATH,class_name)\n",
    "\n",
    "    sub_files = os.listdir(class_folder)\n",
    "    \n",
    "    number_of_files = len(sub_files)\n",
    "    i = 0\n",
    "    \n",
    "    for file in sub_files:\n",
    "        if '.jpg' in file:\n",
    "            image_filepath = os.path.join(class_folder, file)\n",
    "            image_as_np_array = cv2.imread(image_filepath,flags=cv2.IMREAD_COLOR)\n",
    "            \n",
    "            #decrease the size of the image by 1/4 to \n",
    "            image_as_np_array = cv2.resize(image_as_np_array, (56,75), interpolation = cv2.INTER_LINEAR)\n",
    "            \n",
    "            #cv2.imshow('ImageWindow', image_as_np_array)\n",
    "            #cv2.waitKey()\n",
    "            \n",
    "            #print(image_as_np_array.shape)\n",
    "\n",
    "            X = np.append(X, image_as_np_array)\n",
    "            y = np.append(y, class_name)\n",
    "\n",
    "            print(str(i) + \" - \" + str(round((i/number_of_files)*100, 2)) + \"%\", end='\\r', flush=True)\n",
    "\n",
    "            i += 1\n",
    "        \n"
   ]
  },
  {
   "cell_type": "code",
   "execution_count": 6,
   "metadata": {},
   "outputs": [
    {
     "data": {
      "text/plain": [
       "(2093, 56, 75, 3)"
      ]
     },
     "execution_count": 6,
     "metadata": {},
     "output_type": "execute_result"
    }
   ],
   "source": [
    "X = X.reshape(-1,56,75,3)\n",
    "X.shape"
   ]
  },
  {
   "cell_type": "code",
   "execution_count": 7,
   "metadata": {},
   "outputs": [
    {
     "data": {
      "text/plain": [
       "(2093,)"
      ]
     },
     "execution_count": 7,
     "metadata": {},
     "output_type": "execute_result"
    }
   ],
   "source": [
    "y.shape"
   ]
  },
  {
   "cell_type": "code",
   "execution_count": 8,
   "metadata": {},
   "outputs": [],
   "source": [
    "#Normalize image array values between 0-1\n",
    "X /= 255.0"
   ]
  },
  {
   "cell_type": "code",
   "execution_count": 9,
   "metadata": {},
   "outputs": [],
   "source": [
    "from sklearn.preprocessing import LabelEncoder\n",
    "label_encoder = LabelEncoder()\n",
    "label_encoder.fit(y)\n",
    "y = label_encoder.transform(y)"
   ]
  },
  {
   "cell_type": "code",
   "execution_count": 10,
   "metadata": {},
   "outputs": [
    {
     "name": "stdout",
     "output_type": "stream",
     "text": [
      "[0 0 0 ... 5 5 5]\n"
     ]
    }
   ],
   "source": [
    "print(y)"
   ]
  },
  {
   "cell_type": "code",
   "execution_count": 11,
   "metadata": {},
   "outputs": [],
   "source": [
    "np.save('/Volumes/Elements/CES-Model_and_Data/X.npy', X)\n",
    "np.save('/Volumes/Elements/CES-Model_and_Data/y.npy', y)"
   ]
  },
  {
   "cell_type": "code",
   "execution_count": 12,
   "metadata": {},
   "outputs": [],
   "source": [
    "from sklearn.model_selection import train_test_split\n",
    "\n",
    "X_train, X_test, y_train, y_test = train_test_split(X, y, test_size=0.33, random_state=42)"
   ]
  },
  {
   "cell_type": "code",
   "execution_count": 13,
   "metadata": {},
   "outputs": [
    {
     "data": {
      "text/plain": [
       "(1402, 56, 75, 3)"
      ]
     },
     "execution_count": 13,
     "metadata": {},
     "output_type": "execute_result"
    }
   ],
   "source": [
    "X_train.shape"
   ]
  },
  {
   "cell_type": "code",
   "execution_count": 14,
   "metadata": {},
   "outputs": [
    {
     "data": {
      "text/plain": [
       "(691, 56, 75, 3)"
      ]
     },
     "execution_count": 14,
     "metadata": {},
     "output_type": "execute_result"
    }
   ],
   "source": [
    "X_test.shape"
   ]
  },
  {
   "cell_type": "code",
   "execution_count": 15,
   "metadata": {},
   "outputs": [
    {
     "data": {
      "text/plain": [
       "(1402,)"
      ]
     },
     "execution_count": 15,
     "metadata": {},
     "output_type": "execute_result"
    }
   ],
   "source": [
    "y_train.shape"
   ]
  },
  {
   "cell_type": "code",
   "execution_count": 16,
   "metadata": {},
   "outputs": [
    {
     "data": {
      "text/plain": [
       "(691,)"
      ]
     },
     "execution_count": 16,
     "metadata": {},
     "output_type": "execute_result"
    }
   ],
   "source": [
    "y_test.shape"
   ]
  },
  {
   "cell_type": "code",
   "execution_count": 17,
   "metadata": {},
   "outputs": [
    {
     "name": "stdout",
     "output_type": "stream",
     "text": [
      "[5 3 1 0 0 5 1 4 5 5 1 3 0 4 1 5 0 1 0 4 4 1 3 0 3 4 2 0 0 1 1 5 3 0 5 3 5\n",
      " 3 1 4 2 1 1 1 1 5 2 1 3 0 1 1 1 0 1 3 3 1 1 0 3 5 3 1 4 1 0 1 3 4 0 1 1 5\n",
      " 4 5 0 5 0 0 1 0 0 1 3 1 4 5 1 4 5 3 1 1 3 4 3 4 1 4 0 4 5 4 5 5 5 0 1 1 3\n",
      " 4 4 0 5 1 0 2 5 1 4 4 3 1 0 5 5 1 5 3 0 1 4 5 5 4 1 2 1 1 1 1 0 0 0 1 5 0\n",
      " 0 0 4 1 3 1 1 1 4 3 4 4 4 5 4 4 4 0 1 5 4 3 4 2 1 1 1 4 1 1 4 3 3 3 2 4 5\n",
      " 5 4 0 3 0 1 1 4 1 1 1 4 3 0 0 1 3 3 1 3 2 0 4 3 0 3 1 1 0 1 2 4 5 4 3 4 1\n",
      " 4 0 1 2 4 1 5 1 3 4 5 1 5 1 5 3 2 1 5 1 5 5 5 1 0 1 4 5 1 3 3 4 5 0 5 1 3\n",
      " 5 5 5 1 5 5 4 5 5 0 5 1 1 5 0 1 5 1 1 5 0 2 5 3 4 5 3 0 1 4 4 3 1 2 1 4 5\n",
      " 5 2 1 5 0 1 0 0 0 3 1 2 5 5 5 0 3 5 1 1 1 3 5 5 4 2 2 5 0 3 1 1 3 0 1 3 1\n",
      " 5 1 4 1 3 4 4 5 5 0 4 4 4 5 5 0 4 0 4 0 4 3 1 1 0 0 5 2 1 4 0 1 4 5 0 5 1\n",
      " 4 0 1 5 1 2 5 1 3 5 0 1 4 1 0 3 0 4 1 1 3 3 4 1 4 1 1 0 5 4 0 1 0 0 4 3 1\n",
      " 4 5 1 5 1 5 0 3 4 3 4 4 3 5 3 5 5 1 5 5 1 0 4 4 0 0 4 4 1 0 1 4 3 3 0 2 1\n",
      " 4 5 1 3 3 3 0 3 1 5 3 0 1 3 3 4 5 3 3 0 4 1 1 3 0 2 4 1 5 1 0 1 1 4 1 4 4\n",
      " 0 1 5 1 1 4 1 0 5 1 1 5 0 1 3 0 1 5 5 0 5 1 1 1 5 5 1 5 5 1 3 2 4 5 1 5 5\n",
      " 1 5 2 5 3 4 1 3 5 1 3 5 1 1 5 4 2 1 2 0 4 1 1 1 3 1 1 4 0 3 4 3 0 3 0 3 1\n",
      " 4 0 1 5 1 0 0 1 1 4 1 1 0 3 0 1 3 4 0 4 1 1 5 1 5 4 1 3 1 1 5 1 0 0 3 1 5\n",
      " 5 2 3 0 4 5 5 1 0 1 1 5 1 1 1 1 5 3 1 0 1 2 4 5 1 5 4 1 5 0 4 3 4 4 2 1 4\n",
      " 4 5 4 4 3 0 2 0 3 0 2 4 5 0 5 1 5 5 4 5 2 3 4 5 1 5 0 3 3 5 1 1 3 1 3 1 5\n",
      " 1 1 2 0 5 1 3 2 2 3 0 0 5 2 3 4 3 2 0 1 5 2 5 3 1]\n"
     ]
    }
   ],
   "source": [
    "print(y_test)"
   ]
  },
  {
   "cell_type": "code",
   "execution_count": 32,
   "metadata": {},
   "outputs": [],
   "source": [
    "import keras \n",
    "from keras.models import Sequential\n",
    "from keras.layers import *\n",
    "\n",
    "num_classes = 4\n",
    "input_shape=(56,75,3)\n",
    "epochs = 100\n",
    "batch_size = 32"
   ]
  },
  {
   "cell_type": "code",
   "execution_count": 33,
   "metadata": {},
   "outputs": [],
   "source": [
    "model = Sequential()\n",
    "model.add(Conv2D(32, kernel_size=(5, 5), strides=(1, 1),\n",
    "                 activation='relu',\n",
    "                 input_shape=input_shape))\n",
    "model.add(MaxPooling2D(pool_size=(2, 2), strides=(2, 2)))\n",
    "model.add(Conv2D(64, (5, 5), activation='relu'))\n",
    "model.add(MaxPooling2D(pool_size=(2, 2)))\n",
    "model.add(Flatten())\n",
    "model.add(Dense(1000, activation='relu'))\n",
    "model.add(Dense(num_classes, activation='softmax'))"
   ]
  },
  {
   "cell_type": "code",
   "execution_count": 34,
   "metadata": {},
   "outputs": [],
   "source": [
    "model.compile(loss=keras.losses.sparse_categorical_crossentropy,\n",
    "              optimizer=keras.optimizers.SGD(lr=0.01),\n",
    "              metrics=['accuracy'])"
   ]
  },
  {
   "cell_type": "code",
   "execution_count": 35,
   "metadata": {},
   "outputs": [
    {
     "name": "stdout",
     "output_type": "stream",
     "text": [
      "Train on 973 samples, validate on 480 samples\n",
      "Epoch 1/50\n",
      "973/973 [==============================] - 190s 195ms/step - loss: 1.2956 - acc: 0.3803 - val_loss: 1.2506 - val_acc: 0.4208\n",
      "Epoch 2/50\n",
      "973/973 [==============================] - 189s 194ms/step - loss: 1.2762 - acc: 0.3864 - val_loss: 1.2681 - val_acc: 0.4188\n",
      "Epoch 3/50\n",
      "973/973 [==============================] - 186s 191ms/step - loss: 1.2575 - acc: 0.4029 - val_loss: 1.2926 - val_acc: 0.4208\n",
      "Epoch 4/50\n",
      "973/973 [==============================] - 185s 190ms/step - loss: 1.2629 - acc: 0.3936 - val_loss: 1.2264 - val_acc: 0.4208\n",
      "Epoch 5/50\n",
      "973/973 [==============================] - 185s 190ms/step - loss: 1.2502 - acc: 0.4121 - val_loss: 1.2114 - val_acc: 0.4562\n",
      "Epoch 6/50\n",
      "973/973 [==============================] - 189s 194ms/step - loss: 1.2349 - acc: 0.4286 - val_loss: 1.4935 - val_acc: 0.2875\n",
      "Epoch 7/50\n",
      "973/973 [==============================] - 204s 210ms/step - loss: 1.2319 - acc: 0.4573 - val_loss: 1.3139 - val_acc: 0.3000\n",
      "Epoch 8/50\n",
      "973/973 [==============================] - 216s 222ms/step - loss: 1.2143 - acc: 0.4676 - val_loss: 1.1590 - val_acc: 0.5500\n",
      "Epoch 9/50\n",
      "973/973 [==============================] - 192s 197ms/step - loss: 1.2132 - acc: 0.4543 - val_loss: 1.3002 - val_acc: 0.4021\n",
      "Epoch 10/50\n",
      "973/973 [==============================] - 185s 191ms/step - loss: 1.2306 - acc: 0.4625 - val_loss: 1.1592 - val_acc: 0.5229\n",
      "Epoch 11/50\n",
      "973/973 [==============================] - 210s 216ms/step - loss: 1.1890 - acc: 0.4872 - val_loss: 1.3227 - val_acc: 0.3063\n",
      "Epoch 12/50\n",
      "973/973 [==============================] - 207s 213ms/step - loss: 1.1752 - acc: 0.4748 - val_loss: 1.2067 - val_acc: 0.5563\n",
      "Epoch 13/50\n",
      "973/973 [==============================] - 202s 207ms/step - loss: 1.1945 - acc: 0.4717 - val_loss: 1.1582 - val_acc: 0.4479\n",
      "Epoch 14/50\n",
      "973/973 [==============================] - 216s 222ms/step - loss: 1.1705 - acc: 0.4769 - val_loss: 1.3138 - val_acc: 0.4208\n",
      "Epoch 15/50\n",
      "973/973 [==============================] - 187s 192ms/step - loss: 1.1725 - acc: 0.4779 - val_loss: 1.1004 - val_acc: 0.5604\n",
      "Epoch 16/50\n",
      "973/973 [==============================] - 186s 191ms/step - loss: 1.1255 - acc: 0.5468 - val_loss: 1.4745 - val_acc: 0.2708\n",
      "Epoch 17/50\n",
      "973/973 [==============================] - 186s 191ms/step - loss: 1.1056 - acc: 0.5252 - val_loss: 1.0315 - val_acc: 0.5771\n",
      "Epoch 18/50\n",
      "973/973 [==============================] - 186s 191ms/step - loss: 1.1630 - acc: 0.5170 - val_loss: 1.1472 - val_acc: 0.5146\n",
      "Epoch 19/50\n",
      "973/973 [==============================] - 188s 193ms/step - loss: 1.0856 - acc: 0.5468 - val_loss: 1.2470 - val_acc: 0.3896\n",
      "Epoch 20/50\n",
      "973/973 [==============================] - 187s 192ms/step - loss: 1.1076 - acc: 0.5365 - val_loss: 1.1805 - val_acc: 0.4833\n",
      "Epoch 21/50\n",
      "973/973 [==============================] - 190s 195ms/step - loss: 1.0528 - acc: 0.5540 - val_loss: 1.6772 - val_acc: 0.3083\n",
      "Epoch 22/50\n",
      "973/973 [==============================] - 185s 190ms/step - loss: 1.0805 - acc: 0.5427 - val_loss: 1.1116 - val_acc: 0.5083\n",
      "Epoch 23/50\n",
      "973/973 [==============================] - 188s 193ms/step - loss: 1.0370 - acc: 0.5529 - val_loss: 1.1123 - val_acc: 0.5042\n",
      "Epoch 24/50\n",
      "973/973 [==============================] - 187s 192ms/step - loss: 1.0151 - acc: 0.5879 - val_loss: 0.9421 - val_acc: 0.6167\n",
      "Epoch 25/50\n",
      "973/973 [==============================] - 189s 194ms/step - loss: 0.9891 - acc: 0.5982 - val_loss: 1.2097 - val_acc: 0.4021\n",
      "Epoch 26/50\n",
      "973/973 [==============================] - 186s 191ms/step - loss: 1.0278 - acc: 0.5755 - val_loss: 1.0618 - val_acc: 0.5271\n",
      "Epoch 27/50\n",
      "973/973 [==============================] - 187s 192ms/step - loss: 0.9423 - acc: 0.6125 - val_loss: 1.0078 - val_acc: 0.5875\n",
      "Epoch 28/50\n",
      "973/973 [==============================] - 193s 198ms/step - loss: 0.9431 - acc: 0.6208 - val_loss: 0.9644 - val_acc: 0.6042\n",
      "Epoch 29/50\n",
      "973/973 [==============================] - 187s 192ms/step - loss: 0.9423 - acc: 0.6064 - val_loss: 1.0836 - val_acc: 0.6042\n",
      "Epoch 30/50\n",
      "973/973 [==============================] - 187s 192ms/step - loss: 0.9297 - acc: 0.6156 - val_loss: 0.9655 - val_acc: 0.6083\n",
      "Epoch 31/50\n",
      "973/973 [==============================] - 189s 195ms/step - loss: 0.8988 - acc: 0.6351 - val_loss: 0.8683 - val_acc: 0.6604\n",
      "Epoch 32/50\n",
      "973/973 [==============================] - 189s 194ms/step - loss: 0.9188 - acc: 0.6310 - val_loss: 0.8899 - val_acc: 0.6500\n",
      "Epoch 33/50\n",
      "973/973 [==============================] - 193s 199ms/step - loss: 0.8750 - acc: 0.6300 - val_loss: 0.9076 - val_acc: 0.6396\n",
      "Epoch 34/50\n",
      "973/973 [==============================] - 190s 195ms/step - loss: 0.8855 - acc: 0.6341 - val_loss: 1.3048 - val_acc: 0.3979\n",
      "Epoch 35/50\n",
      "973/973 [==============================] - 189s 194ms/step - loss: 0.8580 - acc: 0.6475 - val_loss: 0.8616 - val_acc: 0.6500\n",
      "Epoch 36/50\n",
      "973/973 [==============================] - 191s 197ms/step - loss: 0.8698 - acc: 0.6423 - val_loss: 0.9408 - val_acc: 0.6021\n",
      "Epoch 37/50\n",
      "973/973 [==============================] - 187s 192ms/step - loss: 0.8456 - acc: 0.6526 - val_loss: 0.8584 - val_acc: 0.6562\n",
      "Epoch 38/50\n",
      "973/973 [==============================] - 183s 188ms/step - loss: 0.8526 - acc: 0.6598 - val_loss: 0.9588 - val_acc: 0.6021\n",
      "Epoch 39/50\n",
      "973/973 [==============================] - 183s 189ms/step - loss: 0.8476 - acc: 0.6660 - val_loss: 1.0870 - val_acc: 0.5479\n",
      "Epoch 40/50\n",
      "973/973 [==============================] - 185s 190ms/step - loss: 0.8545 - acc: 0.6475 - val_loss: 0.9278 - val_acc: 0.6458\n",
      "Epoch 41/50\n",
      "973/973 [==============================] - 183s 188ms/step - loss: 0.8375 - acc: 0.6629 - val_loss: 0.9269 - val_acc: 0.6375\n",
      "Epoch 42/50\n",
      "973/973 [==============================] - 183s 188ms/step - loss: 0.7953 - acc: 0.6855 - val_loss: 0.8817 - val_acc: 0.6375\n",
      "Epoch 43/50\n",
      "973/973 [==============================] - 183s 188ms/step - loss: 0.7689 - acc: 0.6968 - val_loss: 0.8211 - val_acc: 0.6479\n",
      "Epoch 44/50\n",
      "973/973 [==============================] - 185s 190ms/step - loss: 0.8078 - acc: 0.6516 - val_loss: 0.9030 - val_acc: 0.6167\n",
      "Epoch 45/50\n",
      "973/973 [==============================] - 183s 188ms/step - loss: 0.7698 - acc: 0.6793 - val_loss: 1.0035 - val_acc: 0.6083\n",
      "Epoch 46/50\n",
      "973/973 [==============================] - 183s 188ms/step - loss: 0.7727 - acc: 0.6804 - val_loss: 1.0717 - val_acc: 0.5083\n",
      "Epoch 47/50\n",
      "973/973 [==============================] - 183s 188ms/step - loss: 0.7772 - acc: 0.6886 - val_loss: 0.8572 - val_acc: 0.6562\n",
      "Epoch 48/50\n",
      "973/973 [==============================] - 182s 187ms/step - loss: 0.7825 - acc: 0.6732 - val_loss: 0.8821 - val_acc: 0.6500\n",
      "Epoch 49/50\n",
      "973/973 [==============================] - 183s 188ms/step - loss: 0.7295 - acc: 0.7071 - val_loss: 0.8969 - val_acc: 0.6396\n",
      "Epoch 50/50\n",
      "973/973 [==============================] - 191s 196ms/step - loss: 0.7698 - acc: 0.6824 - val_loss: 0.8731 - val_acc: 0.6521\n"
     ]
    },
    {
     "data": {
      "text/plain": [
       "<keras.callbacks.History at 0x1a70e65eb8>"
      ]
     },
     "execution_count": 35,
     "metadata": {},
     "output_type": "execute_result"
    }
   ],
   "source": [
    "model.fit(X_train, y_train,\n",
    "          batch_size=batch_size,\n",
    "          epochs=epochs,\n",
    "          validation_data=(X_test, y_test),\n",
    "          verbose=1)"
   ]
  },
  {
   "cell_type": "code",
   "execution_count": 37,
   "metadata": {},
   "outputs": [
    {
     "name": "stdout",
     "output_type": "stream",
     "text": [
      "Test loss: 0.8730818072954813\n",
      "Test accuracy: 0.6520833333333333\n"
     ]
    }
   ],
   "source": [
    "score = model.evaluate(X_test, y_test, verbose=0)\n",
    "print('Test loss:', score[0])\n",
    "print('Test accuracy:', score[1])"
   ]
  },
  {
   "cell_type": "code",
   "execution_count": 39,
   "metadata": {},
   "outputs": [],
   "source": [
    "with tf.Session() as sess:\n",
    "    \n",
    "    sess.run(tf.global_variables_initializer())\n",
    "    \n",
    "    tf.keras.models.save_model(\n",
    "        model,\n",
    "        '/Volumes/Elements/Lesions/65%_model_10-9.h5',\n",
    "        overwrite=True,\n",
    "        include_optimizer=True\n",
    "    )"
   ]
  },
  {
   "cell_type": "code",
   "execution_count": 40,
   "metadata": {},
   "outputs": [
    {
     "name": "stdout",
     "output_type": "stream",
     "text": [
      "INFO:tensorflow:Froze 8 variables.\n",
      "INFO:tensorflow:Converted 8 variables to const ops.\n"
     ]
    },
    {
     "data": {
      "text/plain": [
       "10624816"
      ]
     },
     "execution_count": 40,
     "metadata": {},
     "output_type": "execute_result"
    }
   ],
   "source": [
    "converter = tf.contrib.lite.TocoConverter.from_keras_model_file('/Volumes/Elements/Lesions/65%_model_10-9.h5')\n",
    "converter.post_training_quantize = True\n",
    "converter.quantize_weights = True\n",
    "tflite_model = converter.convert()\n",
    "open(\"/Volumes/Elements/Lesions/65%_epoch_model_10-9_quantized_model.tflite\", \"wb\").write(tflite_model)"
   ]
  },
  {
   "cell_type": "code",
   "execution_count": 41,
   "metadata": {},
   "outputs": [
    {
     "name": "stdout",
     "output_type": "stream",
     "text": [
      "done\n"
     ]
    }
   ],
   "source": [
    "print(\"done\")"
   ]
  },
  {
   "cell_type": "code",
   "execution_count": null,
   "metadata": {},
   "outputs": [],
   "source": []
  }
 ],
 "metadata": {
  "kernelspec": {
   "display_name": "Python 3",
   "language": "python",
   "name": "python3"
  },
  "language_info": {
   "codemirror_mode": {
    "name": "ipython",
    "version": 3
   },
   "file_extension": ".py",
   "mimetype": "text/x-python",
   "name": "python",
   "nbconvert_exporter": "python",
   "pygments_lexer": "ipython3",
   "version": "3.6.4"
  }
 },
 "nbformat": 4,
 "nbformat_minor": 2
}
